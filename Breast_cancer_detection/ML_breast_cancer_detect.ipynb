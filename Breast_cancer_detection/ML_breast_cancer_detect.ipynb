{
  "nbformat": 4,
  "nbformat_minor": 0,
  "metadata": {
    "colab": {
      "provenance": []
    },
    "kernelspec": {
      "name": "python3",
      "display_name": "Python 3"
    },
    "language_info": {
      "name": "python"
    }
  },
  "cells": [
    {
      "cell_type": "markdown",
      "source": [
        "##Breast cancer detection\n",
        "###Description: Breast cancer is the most common cancer among women in the world. It accounts for 25% of all cancer cases. Breast cancer begins when cells in the breast grow out of control. These cells are usually detected by analyzing tumors that can be seen on X-rays."
      ],
      "metadata": {
        "id": "R5gS6rM5ygQr"
      }
    },
    {
      "cell_type": "code",
      "execution_count": 1,
      "metadata": {
        "id": "zHCh4tWfFQj-"
      },
      "outputs": [],
      "source": [
        "import pandas as pd\n",
        "import numpy as np"
      ]
    },
    {
      "cell_type": "code",
      "source": [
        "url=\"https://raw.githubusercontent.com/anvarnarz/praktikum_datasets/main/breast-cancer.csv\"\n",
        "df = pd.read_csv(url)\n",
        "df.sample(5)"
      ],
      "metadata": {
        "colab": {
          "base_uri": "https://localhost:8080/",
          "height": 317
        },
        "id": "12-RTB83tgdb",
        "outputId": "7b1ef9d9-bc85-4861-cc3d-537b1ed221b6"
      },
      "execution_count": 3,
      "outputs": [
        {
          "output_type": "execute_result",
          "data": {
            "text/plain": [
              "         id diagnosis  radius_mean  texture_mean  perimeter_mean  area_mean  \\\n",
              "525   91805         B        8.571         13.10           54.53      221.3   \n",
              "413  905557         B       14.990         22.11           97.53      693.7   \n",
              "195  875878         B       12.910         16.33           82.53      516.4   \n",
              "263  889403         M       15.610         19.38          100.00      758.6   \n",
              "71   859711         B        8.888         14.64           58.79      244.0   \n",
              "\n",
              "     smoothness_mean  compactness_mean  concavity_mean  concave points_mean  \\\n",
              "525          0.10360           0.07632         0.02565              0.01510   \n",
              "413          0.08515           0.10250         0.06859              0.03876   \n",
              "195          0.07941           0.05366         0.03873              0.02377   \n",
              "263          0.07840           0.05616         0.04209              0.02847   \n",
              "71           0.09783           0.15310         0.08606              0.02872   \n",
              "\n",
              "     ...  radius_worst  texture_worst  perimeter_worst  area_worst  \\\n",
              "525  ...         9.473          18.45            63.30       275.6   \n",
              "413  ...        16.760          31.55           110.20       867.1   \n",
              "195  ...        13.880          22.00            90.81       600.6   \n",
              "263  ...        17.910          31.67           115.90       988.6   \n",
              "71   ...         9.733          15.67            62.56       284.4   \n",
              "\n",
              "     smoothness_worst  compactness_worst  concavity_worst  \\\n",
              "525            0.1641             0.2235           0.1754   \n",
              "413            0.1077             0.3345           0.3114   \n",
              "195            0.1097             0.1506           0.1764   \n",
              "263            0.1084             0.1807           0.2260   \n",
              "71             0.1207             0.2436           0.1434   \n",
              "\n",
              "     concave points_worst  symmetry_worst  fractal_dimension_worst  \n",
              "525               0.08512          0.2983                  0.10490  \n",
              "413               0.13080          0.3163                  0.09251  \n",
              "195               0.08235          0.3024                  0.06949  \n",
              "263               0.08568          0.2683                  0.06829  \n",
              "71                0.04786          0.2254                  0.10840  \n",
              "\n",
              "[5 rows x 32 columns]"
            ],
            "text/html": [
              "\n",
              "  <div id=\"df-2987897b-ca7c-4765-8f94-46bbc0c20bde\">\n",
              "    <div class=\"colab-df-container\">\n",
              "      <div>\n",
              "<style scoped>\n",
              "    .dataframe tbody tr th:only-of-type {\n",
              "        vertical-align: middle;\n",
              "    }\n",
              "\n",
              "    .dataframe tbody tr th {\n",
              "        vertical-align: top;\n",
              "    }\n",
              "\n",
              "    .dataframe thead th {\n",
              "        text-align: right;\n",
              "    }\n",
              "</style>\n",
              "<table border=\"1\" class=\"dataframe\">\n",
              "  <thead>\n",
              "    <tr style=\"text-align: right;\">\n",
              "      <th></th>\n",
              "      <th>id</th>\n",
              "      <th>diagnosis</th>\n",
              "      <th>radius_mean</th>\n",
              "      <th>texture_mean</th>\n",
              "      <th>perimeter_mean</th>\n",
              "      <th>area_mean</th>\n",
              "      <th>smoothness_mean</th>\n",
              "      <th>compactness_mean</th>\n",
              "      <th>concavity_mean</th>\n",
              "      <th>concave points_mean</th>\n",
              "      <th>...</th>\n",
              "      <th>radius_worst</th>\n",
              "      <th>texture_worst</th>\n",
              "      <th>perimeter_worst</th>\n",
              "      <th>area_worst</th>\n",
              "      <th>smoothness_worst</th>\n",
              "      <th>compactness_worst</th>\n",
              "      <th>concavity_worst</th>\n",
              "      <th>concave points_worst</th>\n",
              "      <th>symmetry_worst</th>\n",
              "      <th>fractal_dimension_worst</th>\n",
              "    </tr>\n",
              "  </thead>\n",
              "  <tbody>\n",
              "    <tr>\n",
              "      <th>525</th>\n",
              "      <td>91805</td>\n",
              "      <td>B</td>\n",
              "      <td>8.571</td>\n",
              "      <td>13.10</td>\n",
              "      <td>54.53</td>\n",
              "      <td>221.3</td>\n",
              "      <td>0.10360</td>\n",
              "      <td>0.07632</td>\n",
              "      <td>0.02565</td>\n",
              "      <td>0.01510</td>\n",
              "      <td>...</td>\n",
              "      <td>9.473</td>\n",
              "      <td>18.45</td>\n",
              "      <td>63.30</td>\n",
              "      <td>275.6</td>\n",
              "      <td>0.1641</td>\n",
              "      <td>0.2235</td>\n",
              "      <td>0.1754</td>\n",
              "      <td>0.08512</td>\n",
              "      <td>0.2983</td>\n",
              "      <td>0.10490</td>\n",
              "    </tr>\n",
              "    <tr>\n",
              "      <th>413</th>\n",
              "      <td>905557</td>\n",
              "      <td>B</td>\n",
              "      <td>14.990</td>\n",
              "      <td>22.11</td>\n",
              "      <td>97.53</td>\n",
              "      <td>693.7</td>\n",
              "      <td>0.08515</td>\n",
              "      <td>0.10250</td>\n",
              "      <td>0.06859</td>\n",
              "      <td>0.03876</td>\n",
              "      <td>...</td>\n",
              "      <td>16.760</td>\n",
              "      <td>31.55</td>\n",
              "      <td>110.20</td>\n",
              "      <td>867.1</td>\n",
              "      <td>0.1077</td>\n",
              "      <td>0.3345</td>\n",
              "      <td>0.3114</td>\n",
              "      <td>0.13080</td>\n",
              "      <td>0.3163</td>\n",
              "      <td>0.09251</td>\n",
              "    </tr>\n",
              "    <tr>\n",
              "      <th>195</th>\n",
              "      <td>875878</td>\n",
              "      <td>B</td>\n",
              "      <td>12.910</td>\n",
              "      <td>16.33</td>\n",
              "      <td>82.53</td>\n",
              "      <td>516.4</td>\n",
              "      <td>0.07941</td>\n",
              "      <td>0.05366</td>\n",
              "      <td>0.03873</td>\n",
              "      <td>0.02377</td>\n",
              "      <td>...</td>\n",
              "      <td>13.880</td>\n",
              "      <td>22.00</td>\n",
              "      <td>90.81</td>\n",
              "      <td>600.6</td>\n",
              "      <td>0.1097</td>\n",
              "      <td>0.1506</td>\n",
              "      <td>0.1764</td>\n",
              "      <td>0.08235</td>\n",
              "      <td>0.3024</td>\n",
              "      <td>0.06949</td>\n",
              "    </tr>\n",
              "    <tr>\n",
              "      <th>263</th>\n",
              "      <td>889403</td>\n",
              "      <td>M</td>\n",
              "      <td>15.610</td>\n",
              "      <td>19.38</td>\n",
              "      <td>100.00</td>\n",
              "      <td>758.6</td>\n",
              "      <td>0.07840</td>\n",
              "      <td>0.05616</td>\n",
              "      <td>0.04209</td>\n",
              "      <td>0.02847</td>\n",
              "      <td>...</td>\n",
              "      <td>17.910</td>\n",
              "      <td>31.67</td>\n",
              "      <td>115.90</td>\n",
              "      <td>988.6</td>\n",
              "      <td>0.1084</td>\n",
              "      <td>0.1807</td>\n",
              "      <td>0.2260</td>\n",
              "      <td>0.08568</td>\n",
              "      <td>0.2683</td>\n",
              "      <td>0.06829</td>\n",
              "    </tr>\n",
              "    <tr>\n",
              "      <th>71</th>\n",
              "      <td>859711</td>\n",
              "      <td>B</td>\n",
              "      <td>8.888</td>\n",
              "      <td>14.64</td>\n",
              "      <td>58.79</td>\n",
              "      <td>244.0</td>\n",
              "      <td>0.09783</td>\n",
              "      <td>0.15310</td>\n",
              "      <td>0.08606</td>\n",
              "      <td>0.02872</td>\n",
              "      <td>...</td>\n",
              "      <td>9.733</td>\n",
              "      <td>15.67</td>\n",
              "      <td>62.56</td>\n",
              "      <td>284.4</td>\n",
              "      <td>0.1207</td>\n",
              "      <td>0.2436</td>\n",
              "      <td>0.1434</td>\n",
              "      <td>0.04786</td>\n",
              "      <td>0.2254</td>\n",
              "      <td>0.10840</td>\n",
              "    </tr>\n",
              "  </tbody>\n",
              "</table>\n",
              "<p>5 rows × 32 columns</p>\n",
              "</div>\n",
              "      <button class=\"colab-df-convert\" onclick=\"convertToInteractive('df-2987897b-ca7c-4765-8f94-46bbc0c20bde')\"\n",
              "              title=\"Convert this dataframe to an interactive table.\"\n",
              "              style=\"display:none;\">\n",
              "        \n",
              "  <svg xmlns=\"http://www.w3.org/2000/svg\" height=\"24px\"viewBox=\"0 0 24 24\"\n",
              "       width=\"24px\">\n",
              "    <path d=\"M0 0h24v24H0V0z\" fill=\"none\"/>\n",
              "    <path d=\"M18.56 5.44l.94 2.06.94-2.06 2.06-.94-2.06-.94-.94-2.06-.94 2.06-2.06.94zm-11 1L8.5 8.5l.94-2.06 2.06-.94-2.06-.94L8.5 2.5l-.94 2.06-2.06.94zm10 10l.94 2.06.94-2.06 2.06-.94-2.06-.94-.94-2.06-.94 2.06-2.06.94z\"/><path d=\"M17.41 7.96l-1.37-1.37c-.4-.4-.92-.59-1.43-.59-.52 0-1.04.2-1.43.59L10.3 9.45l-7.72 7.72c-.78.78-.78 2.05 0 2.83L4 21.41c.39.39.9.59 1.41.59.51 0 1.02-.2 1.41-.59l7.78-7.78 2.81-2.81c.8-.78.8-2.07 0-2.86zM5.41 20L4 18.59l7.72-7.72 1.47 1.35L5.41 20z\"/>\n",
              "  </svg>\n",
              "      </button>\n",
              "      \n",
              "  <style>\n",
              "    .colab-df-container {\n",
              "      display:flex;\n",
              "      flex-wrap:wrap;\n",
              "      gap: 12px;\n",
              "    }\n",
              "\n",
              "    .colab-df-convert {\n",
              "      background-color: #E8F0FE;\n",
              "      border: none;\n",
              "      border-radius: 50%;\n",
              "      cursor: pointer;\n",
              "      display: none;\n",
              "      fill: #1967D2;\n",
              "      height: 32px;\n",
              "      padding: 0 0 0 0;\n",
              "      width: 32px;\n",
              "    }\n",
              "\n",
              "    .colab-df-convert:hover {\n",
              "      background-color: #E2EBFA;\n",
              "      box-shadow: 0px 1px 2px rgba(60, 64, 67, 0.3), 0px 1px 3px 1px rgba(60, 64, 67, 0.15);\n",
              "      fill: #174EA6;\n",
              "    }\n",
              "\n",
              "    [theme=dark] .colab-df-convert {\n",
              "      background-color: #3B4455;\n",
              "      fill: #D2E3FC;\n",
              "    }\n",
              "\n",
              "    [theme=dark] .colab-df-convert:hover {\n",
              "      background-color: #434B5C;\n",
              "      box-shadow: 0px 1px 3px 1px rgba(0, 0, 0, 0.15);\n",
              "      filter: drop-shadow(0px 1px 2px rgba(0, 0, 0, 0.3));\n",
              "      fill: #FFFFFF;\n",
              "    }\n",
              "  </style>\n",
              "\n",
              "      <script>\n",
              "        const buttonEl =\n",
              "          document.querySelector('#df-2987897b-ca7c-4765-8f94-46bbc0c20bde button.colab-df-convert');\n",
              "        buttonEl.style.display =\n",
              "          google.colab.kernel.accessAllowed ? 'block' : 'none';\n",
              "\n",
              "        async function convertToInteractive(key) {\n",
              "          const element = document.querySelector('#df-2987897b-ca7c-4765-8f94-46bbc0c20bde');\n",
              "          const dataTable =\n",
              "            await google.colab.kernel.invokeFunction('convertToInteractive',\n",
              "                                                     [key], {});\n",
              "          if (!dataTable) return;\n",
              "\n",
              "          const docLinkHtml = 'Like what you see? Visit the ' +\n",
              "            '<a target=\"_blank\" href=https://colab.research.google.com/notebooks/data_table.ipynb>data table notebook</a>'\n",
              "            + ' to learn more about interactive tables.';\n",
              "          element.innerHTML = '';\n",
              "          dataTable['output_type'] = 'display_data';\n",
              "          await google.colab.output.renderOutput(dataTable, element);\n",
              "          const docLink = document.createElement('div');\n",
              "          docLink.innerHTML = docLinkHtml;\n",
              "          element.appendChild(docLink);\n",
              "        }\n",
              "      </script>\n",
              "    </div>\n",
              "  </div>\n",
              "  "
            ]
          },
          "metadata": {},
          "execution_count": 3
        }
      ]
    },
    {
      "cell_type": "code",
      "source": [
        "df['diagnosis'].value_counts()"
      ],
      "metadata": {
        "colab": {
          "base_uri": "https://localhost:8080/"
        },
        "id": "Tl5_NA8Ztxsa",
        "outputId": "4f2e35bd-8251-4328-c1c6-1e5e6847acaf"
      },
      "execution_count": 4,
      "outputs": [
        {
          "output_type": "execute_result",
          "data": {
            "text/plain": [
              "B    357\n",
              "M    212\n",
              "Name: diagnosis, dtype: int64"
            ]
          },
          "metadata": {},
          "execution_count": 4
        }
      ]
    },
    {
      "cell_type": "markdown",
      "source": [
        "##The dataset includes breast tumor information. and the diagnosis column means that the tumor is cancerous (M - malignant) or non-cancerous (B - benign)."
      ],
      "metadata": {
        "id": "Bo_yBsZGy0e-"
      }
    },
    {
      "cell_type": "markdown",
      "source": [
        "Let's change these values to 0 and 1. M->1, B->0"
      ],
      "metadata": {
        "id": "gZ7VV5Bst7Tr"
      }
    },
    {
      "cell_type": "code",
      "source": [
        "from sklearn.preprocessing import LabelEncoder\n",
        "labelencoder = LabelEncoder()\n",
        "\n",
        "df['diagnosis'] = labelencoder.fit_transform(df['diagnosis'].values)\n",
        "df['diagnosis'].value_counts()"
      ],
      "metadata": {
        "colab": {
          "base_uri": "https://localhost:8080/"
        },
        "id": "Mc-goLAktxqC",
        "outputId": "305ffa6d-e293-4e04-e8f4-0bfa7d67bdac"
      },
      "execution_count": 5,
      "outputs": [
        {
          "output_type": "execute_result",
          "data": {
            "text/plain": [
              "0    357\n",
              "1    212\n",
              "Name: diagnosis, dtype: int64"
            ]
          },
          "metadata": {},
          "execution_count": 5
        }
      ]
    },
    {
      "cell_type": "code",
      "source": [
        "df.drop(columns=['id'], inplace=True)"
      ],
      "metadata": {
        "id": "cwwTReCJtxl8"
      },
      "execution_count": 6,
      "outputs": []
    },
    {
      "cell_type": "code",
      "source": [
        "df.corrwith(df['diagnosis']).abs().sort_values(ascending=False)"
      ],
      "metadata": {
        "colab": {
          "base_uri": "https://localhost:8080/"
        },
        "id": "2XY-G1PVtxjR",
        "outputId": "1bde966d-c061-477d-c575-1f525bf9e3b1"
      },
      "execution_count": 7,
      "outputs": [
        {
          "output_type": "execute_result",
          "data": {
            "text/plain": [
              "diagnosis                  1.000000\n",
              "concave points_worst       0.793566\n",
              "perimeter_worst            0.782914\n",
              "concave points_mean        0.776614\n",
              "radius_worst               0.776454\n",
              "perimeter_mean             0.742636\n",
              "area_worst                 0.733825\n",
              "radius_mean                0.730029\n",
              "area_mean                  0.708984\n",
              "concavity_mean             0.696360\n",
              "concavity_worst            0.659610\n",
              "compactness_mean           0.596534\n",
              "compactness_worst          0.590998\n",
              "radius_se                  0.567134\n",
              "perimeter_se               0.556141\n",
              "area_se                    0.548236\n",
              "texture_worst              0.456903\n",
              "smoothness_worst           0.421465\n",
              "symmetry_worst             0.416294\n",
              "texture_mean               0.415185\n",
              "concave points_se          0.408042\n",
              "smoothness_mean            0.358560\n",
              "symmetry_mean              0.330499\n",
              "fractal_dimension_worst    0.323872\n",
              "compactness_se             0.292999\n",
              "concavity_se               0.253730\n",
              "fractal_dimension_se       0.077972\n",
              "smoothness_se              0.067016\n",
              "fractal_dimension_mean     0.012838\n",
              "texture_se                 0.008303\n",
              "symmetry_se                0.006522\n",
              "dtype: float64"
            ]
          },
          "metadata": {},
          "execution_count": 7
        }
      ]
    },
    {
      "cell_type": "code",
      "source": [
        "X = df.drop('diagnosis', axis=1).values\n",
        "y = df['diagnosis']"
      ],
      "metadata": {
        "id": "3wmomm1Btxg5"
      },
      "execution_count": 8,
      "outputs": []
    },
    {
      "cell_type": "code",
      "source": [
        "from sklearn.preprocessing import StandardScaler\n",
        "\n",
        "scaler = StandardScaler()\n",
        "X = scaler.fit_transform(X)"
      ],
      "metadata": {
        "id": "rMDZtutPtxe7"
      },
      "execution_count": 9,
      "outputs": []
    },
    {
      "cell_type": "code",
      "source": [],
      "metadata": {
        "id": "yApUXPDBtxcf"
      },
      "execution_count": null,
      "outputs": []
    },
    {
      "cell_type": "code",
      "source": [
        "# Train/test split\n",
        "from sklearn.model_selection import train_test_split\n",
        "\n",
        "X_train, X_test, y_train, y_test = train_test_split(X,y, test_size=0.2, random_state=12)\n",
        "\n",
        "# k-NN\n",
        "from sklearn.neighbors import KNeighborsClassifier\n",
        "knn = KNeighborsClassifier(n_neighbors=5) # k-ni qiymati\n",
        "\n",
        "knn.fit(X_train, y_train)"
      ],
      "metadata": {
        "colab": {
          "base_uri": "https://localhost:8080/"
        },
        "id": "4h-ECQMTtxaC",
        "outputId": "6ed8d691-0bb0-4254-a2ad-1fc4942c4a95"
      },
      "execution_count": 21,
      "outputs": [
        {
          "output_type": "execute_result",
          "data": {
            "text/plain": [
              "KNeighborsClassifier()"
            ]
          },
          "metadata": {},
          "execution_count": 21
        }
      ]
    },
    {
      "cell_type": "code",
      "source": [
        "y_predict = knn.predict(X_test)"
      ],
      "metadata": {
        "id": "ntDjPg2YwNH5"
      },
      "execution_count": 22,
      "outputs": []
    },
    {
      "cell_type": "code",
      "source": [
        "from sklearn.metrics import jaccard_score\n",
        "\n",
        "jaccard_score(y_test, y_predict)"
      ],
      "metadata": {
        "colab": {
          "base_uri": "https://localhost:8080/"
        },
        "id": "E7_d6KNWwNE0",
        "outputId": "05b7ee83-a6f1-47f0-de61-aafaeef00f19"
      },
      "execution_count": 23,
      "outputs": [
        {
          "output_type": "execute_result",
          "data": {
            "text/plain": [
              "0.8958333333333334"
            ]
          },
          "metadata": {},
          "execution_count": 23
        }
      ]
    },
    {
      "cell_type": "code",
      "source": [
        "from sklearn.metrics import confusion_matrix\n",
        "confusion_matrix(y_test, y_predict)"
      ],
      "metadata": {
        "colab": {
          "base_uri": "https://localhost:8080/"
        },
        "id": "AOe10do2wNBu",
        "outputId": "78bd55f6-7524-407b-a530-2a9ce82a5665"
      },
      "execution_count": 24,
      "outputs": [
        {
          "output_type": "execute_result",
          "data": {
            "text/plain": [
              "array([[66,  0],\n",
              "       [ 5, 43]])"
            ]
          },
          "metadata": {},
          "execution_count": 24
        }
      ]
    },
    {
      "cell_type": "code",
      "source": [
        "from sklearn.metrics import classification_report\n",
        "print(classification_report(y_test, y_predict))"
      ],
      "metadata": {
        "colab": {
          "base_uri": "https://localhost:8080/"
        },
        "id": "PaSdt4p9w0sT",
        "outputId": "74cc73da-46f1-485d-a2c9-f269050399c8"
      },
      "execution_count": 25,
      "outputs": [
        {
          "output_type": "stream",
          "name": "stdout",
          "text": [
            "              precision    recall  f1-score   support\n",
            "\n",
            "           0       0.93      1.00      0.96        66\n",
            "           1       1.00      0.90      0.95        48\n",
            "\n",
            "    accuracy                           0.96       114\n",
            "   macro avg       0.96      0.95      0.95       114\n",
            "weighted avg       0.96      0.96      0.96       114\n",
            "\n"
          ]
        }
      ]
    },
    {
      "cell_type": "markdown",
      "source": [
        "##lets find out the most accurate 'k'"
      ],
      "metadata": {
        "id": "vuPmg27ezObC"
      }
    },
    {
      "cell_type": "code",
      "source": [
        "f1 = []\n",
        "for k in range(1,25):\n",
        "    knn = KNeighborsClassifier(n_neighbors=k) # k-ni qiymati\n",
        "    knn.fit(X_train, y_train)\n",
        "    y_predict = knn.predict(X_test)\n",
        "    f1.append(jaccard_score(y_test, y_predict))\n",
        "\n",
        "plt.figure(figsize=(10,6))\n",
        "plt.plot(range(1,25),f1)\n",
        "plt.xticks(range(1,25))\n",
        "plt.grid()\n",
        "plt.show()"
      ],
      "metadata": {
        "colab": {
          "base_uri": "https://localhost:8080/",
          "height": 374
        },
        "id": "B_06tLLAxYXx",
        "outputId": "7b1a4036-772e-42fa-ee95-6db46df413de"
      },
      "execution_count": 27,
      "outputs": [
        {
          "output_type": "display_data",
          "data": {
            "text/plain": [
              "<Figure size 720x432 with 1 Axes>"
            ],
            "image/png": "[encoded data removed]"
          },
          "metadata": {
            "needs_background": "light"
          }
        }
      ]
    }
  ]
}